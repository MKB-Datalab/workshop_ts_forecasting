{
 "cells": [
  {
   "cell_type": "code",
   "execution_count": null,
   "id": "0364a498",
   "metadata": {},
   "outputs": [],
   "source": [
    "import numpy as np\n",
    "import pandas as pd\n",
    "import matplotlib.pyplot as plt\n",
    "import statsmodels.api as sm\n",
    "import pmdarima as pm\n",
    "import statsmodels as sm\n",
    "\n",
    "# to ignore convergence warnings \n",
    "import warnings\n",
    "warnings.filterwarnings('ignore')\n",
    "\n",
    "from statsmodels.tools.sm_exceptions import ConvergenceWarning, InterpolationWarning\n",
    "warnings.simplefilter('ignore', ConvergenceWarning)\n",
    "warnings.simplefilter('ignore', InterpolationWarning)\n"
   ]
  },
  {
   "cell_type": "markdown",
   "id": "ef94eb64",
   "metadata": {},
   "source": [
    "# Intro to Time Series\n",
    "\n",
    "## Additive and multiplicative seasonality – can you identify them correctly?\n",
    "\n",
    "\n",
    "<!-- <img src=\"https://github.com/MKB-Datalab/workshop_ts_forecasting/images/image_01.png\" /> -->\n",
    "\n",
    "<img src=\"../images/image_01.png\" />\n",
    "\n",
    "Additive or multiplicative?"
   ]
  },
  {
   "cell_type": "markdown",
   "id": "2774d3ba",
   "metadata": {},
   "source": [
    "**Answer:**"
   ]
  },
  {
   "cell_type": "markdown",
   "id": "fbf0b9fb",
   "metadata": {},
   "source": [
    "<!-- <img src=\"https://github.com/MKB-Datalab/workshop_ts_forecasting/images/image_02.png\" /> -->\n",
    "\n",
    "<img src=\"../images/image_02.png\" />\n",
    "\n",
    "Additive or multiplicative?"
   ]
  },
  {
   "cell_type": "markdown",
   "id": "596165b6",
   "metadata": {},
   "source": [
    "**Answer:**"
   ]
  },
  {
   "cell_type": "markdown",
   "id": "016c1ce5",
   "metadata": {},
   "source": [
    "Do you want to test how good you are in identifying additive and multiplicative seasonality comparing with statistics and other humans? \n",
    "\n",
    "Go to this [link](https://kourentzes.com/forecasting/2014/11/09/additive-and-multiplicative-seasonality)"
   ]
  },
  {
   "cell_type": "markdown",
   "id": "fbd7fb96",
   "metadata": {},
   "source": [
    "## Time Series Decomposition\n",
    "\n",
    "Classify trend, seasonality and if model is additive or multiplicative based on the time series decomposition.\n",
    "\n",
    "### Google Trends - search for 'diet'"
   ]
  },
  {
   "cell_type": "code",
   "execution_count": null,
   "id": "6de4a5c4",
   "metadata": {},
   "outputs": [],
   "source": [
    "# load US data - diet_USA_2016_2023.csv\n",
    "\n",
    "diet_USA = pd.read_csv('YOUR CODE HERE',\n",
    "                   index_col=[0],\n",
    "                  parse_dates=[0])"
   ]
  },
  {
   "cell_type": "code",
   "execution_count": null,
   "id": "de2bdaa6",
   "metadata": {},
   "outputs": [],
   "source": [
    "# Plot the entire time series diet and show gridlines\n",
    "diet_USA.plot(grid=True,figsize=(17,5), title = \"Number of searchs of word Diet in USA\" )\n",
    "plt.show()"
   ]
  },
  {
   "cell_type": "markdown",
   "id": "ec68a397",
   "metadata": {},
   "source": [
    "Before running next cell:\n",
    "- Do you see any pattern here?\n",
    "- Do you think this time series has seasonality?\n",
    "- Trend is additive or multiplicative?\n",
    "\n",
    "Let's run the next cell and observe the components trend, seasonality, and noise.\n",
    "\n",
    "* You can also try the code below with `model = 'additive'`"
   ]
  },
  {
   "cell_type": "code",
   "execution_count": null,
   "id": "7909ea00",
   "metadata": {},
   "outputs": [],
   "source": [
    "from pylab import rcParams\n",
    "rcParams['figure.figsize'] = 11, 9\n",
    "\n",
    "import statsmodels.api as sm\n",
    "decomposition = sm.tsa.seasonal_decompose(diet_USA['diet: (United States)'],\n",
    "                                         model = 'multiplicative',\n",
    "                                         period=53 #52 to 53 weeks in a year\n",
    "                                         )\n",
    "fig = decomposition.plot()\n",
    "plt.show()"
   ]
  },
  {
   "cell_type": "markdown",
   "id": "8d1c2978",
   "metadata": {},
   "source": [
    "Now, repeat the steps above to the Dutch data ().\n",
    "\n",
    "What you observe there?\n",
    "\n",
    "How you would compare the search of the word `diet` in both countries?"
   ]
  },
  {
   "cell_type": "code",
   "execution_count": null,
   "id": "467c3448",
   "metadata": {},
   "outputs": [],
   "source": [
    "# PUT YOUR CODE HERE"
   ]
  },
  {
   "cell_type": "markdown",
   "id": "562c5057",
   "metadata": {},
   "source": [
    "### [Air Passenger Data](https://www.kaggle.com/datasets/ashfakyeafi/air-passenger-data-for-time-series-analysis)\n",
    "\n",
    "Download the data and apply the same steps above.\n",
    "\n",
    "What you can conclude now?"
   ]
  },
  {
   "cell_type": "code",
   "execution_count": null,
   "id": "8c2c893f",
   "metadata": {},
   "outputs": [],
   "source": [
    "# PUT YOUR CODE HERE"
   ]
  },
  {
   "cell_type": "markdown",
   "id": "a03b3e79",
   "metadata": {},
   "source": [
    "Extra: You can use some data from `statsmodel` to play a bit:\n",
    "\n",
    "* [Mauna Loa Weekly Atmospheric CO2 Data](https://www.statsmodels.org/dev/datasets/generated/co2.html)\n",
    "* [Grunfeld (1950) Investment Data](https://www.statsmodels.org/dev/datasets/generated/grunfeld.html)\n",
    "* [Nile River flows at Ashwan 1871-1970](https://www.statsmodels.org/dev/datasets/generated/nile.html)\n",
    "* [Yearly sunspots data 1700-2008](https://www.statsmodels.org/dev/datasets/generated/sunspots.html)\n",
    "\n",
    "To load any of these data use the following code as base:"
   ]
  },
  {
   "cell_type": "raw",
   "id": "4b328927",
   "metadata": {},
   "source": [
    "import statsmodels as sm\n",
    "df_sun = sm.datasets.sunspots.load_pandas().data"
   ]
  },
  {
   "cell_type": "markdown",
   "id": "caff64a8",
   "metadata": {},
   "source": [
    "For some of the above data you might need to apply the following:"
   ]
  },
  {
   "cell_type": "raw",
   "id": "f68d1807",
   "metadata": {},
   "source": [
    "df_sun['YEAR'] = pd.to_datetime(df_sun['YEAR'], format='%Y')"
   ]
  },
  {
   "cell_type": "markdown",
   "id": "acd9141c",
   "metadata": {},
   "source": [
    "## Stationary Tests\n",
    "\n",
    "![](../images/ADF_KPSS.jpg)\n",
    "\n",
    "<!-- ![](https://github.com/MKB-Datalab/workshop_ts_forecasting/images/Box-Jenkins-Method.PNG) -->\n",
    "\n",
    "The functions bellow can be found [here](https://www.statsmodels.org/stable/examples/notebooks/generated/stationarity_detrending_adf_kpss.html).\n"
   ]
  },
  {
   "cell_type": "code",
   "execution_count": null,
   "id": "e2850c1a",
   "metadata": {},
   "outputs": [],
   "source": [
    "from statsmodels.tsa.stattools import adfuller, kpss\n",
    "\n",
    "def adf_test(timeseries):\n",
    "    print ('Results of Dickey-Fuller Test:')\n",
    "    dftest = adfuller(timeseries, autolag='AIC')\n",
    "    dfoutput = pd.Series(dftest[0:4], index=['Test Statistic','p-value','#Lags Used','Number of Observations Used'])\n",
    "    for key,value in dftest[4].items():\n",
    "        dfoutput['Critical Value (%s)'%key] = value\n",
    "    print (dfoutput)\n",
    "    \n",
    "def kpss_test(timeseries):\n",
    "    print ('Results of KPSS Test:')\n",
    "    kpsstest = kpss(timeseries, regression='c', nlags=\"auto\")\n",
    "    kpss_output = pd.Series(kpsstest[0:3], index=['Test Statistic','p-value','Lags Used'])\n",
    "    for key,value in kpsstest[3].items():\n",
    "        kpss_output['Critical Value (%s)'%key] = value\n",
    "    print (kpss_output)    "
   ]
  },
  {
   "cell_type": "markdown",
   "id": "c8e73208",
   "metadata": {},
   "source": [
    "Apply both tests to Google Trends Diet USA data. What can you conclude?"
   ]
  },
  {
   "cell_type": "code",
   "execution_count": null,
   "id": "fd68e371",
   "metadata": {},
   "outputs": [],
   "source": [
    "# YOUR CODE HERE"
   ]
  },
  {
   "cell_type": "markdown",
   "id": "9f0043a4",
   "metadata": {},
   "source": [
    "The function bellow puts all together and gives the answer to you."
   ]
  },
  {
   "cell_type": "code",
   "execution_count": null,
   "id": "4965d259",
   "metadata": {},
   "outputs": [],
   "source": [
    "def obtain_adf_kpss_results(timeseries, max_d):\n",
    "    \"\"\" Build dataframe with ADF statistics and p-value for time series after applying difference on time series\n",
    "    \n",
    "    Args:\n",
    "        time_series (df): Dataframe of univariate time series  \n",
    "        max_d (int): Max value of how many times apply difference\n",
    "        \n",
    "    Returns:\n",
    "        Dataframe showing values of ADF statistics and p when applying ADF test after applying d times \n",
    "        differencing on a time-series.\n",
    "    \n",
    "    \"\"\"\n",
    "    \n",
    "    results=[]\n",
    "\n",
    "    for idx in range(max_d):\n",
    "        adf_result = adfuller(timeseries, autolag='AIC')\n",
    "        kpss_result = kpss(timeseries, regression='c', nlags=\"auto\")\n",
    "        timeseries = timeseries.diff().dropna()\n",
    "        if adf_result[1] <=0.05:\n",
    "            adf_stationary = True\n",
    "        else:\n",
    "            adf_stationary = False\n",
    "        if kpss_result[1] <=0.05:\n",
    "            kpss_stationary = False\n",
    "        else:\n",
    "            kpss_stationary = True\n",
    "            \n",
    "        stationary = adf_stationary & kpss_stationary\n",
    "            \n",
    "        results.append((idx,adf_result[1], kpss_result[1],adf_stationary,kpss_stationary, stationary))\n",
    "    \n",
    "    # Construct DataFrame \n",
    "    results_df = pd.DataFrame(results, columns=['d','adf_stats','kpss_stats', 'is_adf_stationary','is_kpss_stationary','is_stationary' ])\n",
    "    \n",
    "    return results_df\n"
   ]
  },
  {
   "cell_type": "code",
   "execution_count": null,
   "id": "9ae6907d",
   "metadata": {},
   "outputs": [],
   "source": [
    "# YOUR CODE HERE"
   ]
  },
  {
   "cell_type": "markdown",
   "id": "f8762fe2",
   "metadata": {},
   "source": [
    "## Making Time Series Stationary through Differencing"
   ]
  },
  {
   "cell_type": "code",
   "execution_count": null,
   "id": "f278df30",
   "metadata": {},
   "outputs": [],
   "source": [
    "# Plot diet_USA again\n",
    "\n",
    "# YOUR CODE HERE"
   ]
  },
  {
   "cell_type": "markdown",
   "id": "9e4ced28",
   "metadata": {},
   "source": [
    "After differencing...."
   ]
  },
  {
   "cell_type": "code",
   "execution_count": null,
   "id": "8d4783a5",
   "metadata": {},
   "outputs": [],
   "source": [
    "# Apply differencing on diet_USA the necessary number of times and plot\n",
    "\n",
    "# YOUR CODE HERE"
   ]
  },
  {
   "cell_type": "markdown",
   "id": "7f888204",
   "metadata": {},
   "source": [
    "Apply tests again..."
   ]
  },
  {
   "cell_type": "code",
   "execution_count": null,
   "id": "f2b8d4d8",
   "metadata": {},
   "outputs": [],
   "source": [
    "# YOUR CODE HERE"
   ]
  }
 ],
 "metadata": {
  "kernelspec": {
   "display_name": "Python 3",
   "language": "python",
   "name": "python3"
  },
  "language_info": {
   "codemirror_mode": {
    "name": "ipython",
    "version": 3
   },
   "file_extension": ".py",
   "mimetype": "text/x-python",
   "name": "python",
   "nbconvert_exporter": "python",
   "pygments_lexer": "ipython3",
   "version": "3.8.5"
  },
  "toc": {
   "base_numbering": 1,
   "nav_menu": {},
   "number_sections": true,
   "sideBar": true,
   "skip_h1_title": false,
   "title_cell": "Table of Contents",
   "title_sidebar": "Contents",
   "toc_cell": false,
   "toc_position": {},
   "toc_section_display": true,
   "toc_window_display": true
  },
  "varInspector": {
   "cols": {
    "lenName": 16,
    "lenType": 16,
    "lenVar": 40
   },
   "kernels_config": {
    "python": {
     "delete_cmd_postfix": "",
     "delete_cmd_prefix": "del ",
     "library": "var_list.py",
     "varRefreshCmd": "print(var_dic_list())"
    },
    "r": {
     "delete_cmd_postfix": ") ",
     "delete_cmd_prefix": "rm(",
     "library": "var_list.r",
     "varRefreshCmd": "cat(var_dic_list()) "
    }
   },
   "types_to_exclude": [
    "module",
    "function",
    "builtin_function_or_method",
    "instance",
    "_Feature"
   ],
   "window_display": false
  }
 },
 "nbformat": 4,
 "nbformat_minor": 5
}
