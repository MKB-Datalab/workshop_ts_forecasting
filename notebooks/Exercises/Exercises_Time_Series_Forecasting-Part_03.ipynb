{
 "cells": [
  {
   "cell_type": "markdown",
   "id": "35268949",
   "metadata": {
    "toc": true
   },
   "source": [
    "<h1>Table of Contents<span class=\"tocSkip\"></span></h1>\n",
    "<div class=\"toc\"><ul class=\"toc-item\"><li><span><a href=\"#Introduction\" data-toc-modified-id=\"Introduction-1\"><span class=\"toc-item-num\">1&nbsp;&nbsp;</span>Introduction</a></span><ul class=\"toc-item\"><li><span><a href=\"#Facebook-Prophet\" data-toc-modified-id=\"Facebook-Prophet-1.1\"><span class=\"toc-item-num\">1.1&nbsp;&nbsp;</span>Facebook Prophet</a></span></li></ul></li><li><span><a href=\"#Import-Packages\" data-toc-modified-id=\"Import-Packages-2\"><span class=\"toc-item-num\">2&nbsp;&nbsp;</span>Import Packages</a></span></li><li><span><a href=\"#Load-The-Walmart-Dataset---Store-2-Item-28-data\" data-toc-modified-id=\"Load-The-Walmart-Dataset---Store-2-Item-28-data-3\"><span class=\"toc-item-num\">3&nbsp;&nbsp;</span>Load The Walmart Dataset - Store 2 Item 28 data</a></span></li><li><span><a href=\"#Visualize-times-series-sales-of-item-28-at-store-2\" data-toc-modified-id=\"Visualize-times-series-sales-of-item-28-at-store-2-4\"><span class=\"toc-item-num\">4&nbsp;&nbsp;</span>Visualize times series sales of item 28 at store 2</a></span></li><li><span><a href=\"#Forecasting-with-Facebook-Prophet\" data-toc-modified-id=\"Forecasting-with-Facebook-Prophet-5\"><span class=\"toc-item-num\">5&nbsp;&nbsp;</span>Forecasting with Facebook Prophet</a></span><ul class=\"toc-item\"><li><span><a href=\"#Prepare-Data-for-Prophet\" data-toc-modified-id=\"Prepare-Data-for-Prophet-5.1\"><span class=\"toc-item-num\">5.1&nbsp;&nbsp;</span>Prepare Data for Prophet</a></span></li><li><span><a href=\"#Train-Model\" data-toc-modified-id=\"Train-Model-5.2\"><span class=\"toc-item-num\">5.2&nbsp;&nbsp;</span>Train Model</a></span></li><li><span><a href=\"#Forecast\" data-toc-modified-id=\"Forecast-5.3\"><span class=\"toc-item-num\">5.3&nbsp;&nbsp;</span>Forecast</a></span><ul class=\"toc-item\"><li><span><a href=\"#Forecast-Dataframe\" data-toc-modified-id=\"Forecast-Dataframe-5.3.1\"><span class=\"toc-item-num\">5.3.1&nbsp;&nbsp;</span>Forecast Dataframe</a></span></li><li><span><a href=\"#Forecast-Plot\" data-toc-modified-id=\"Forecast-Plot-5.3.2\"><span class=\"toc-item-num\">5.3.2&nbsp;&nbsp;</span>Forecast Plot</a></span></li><li><span><a href=\"#Trend-Changepoints\" data-toc-modified-id=\"Trend-Changepoints-5.3.3\"><span class=\"toc-item-num\">5.3.3&nbsp;&nbsp;</span>Trend Changepoints</a></span></li><li><span><a href=\"#Component-Plots\" data-toc-modified-id=\"Component-Plots-5.3.4\"><span class=\"toc-item-num\">5.3.4&nbsp;&nbsp;</span>Component Plots</a></span></li></ul></li><li><span><a href=\"#Evaluate-model\" data-toc-modified-id=\"Evaluate-model-5.4\"><span class=\"toc-item-num\">5.4&nbsp;&nbsp;</span>Evaluate model</a></span><ul class=\"toc-item\"><li><span><a href=\"#Prophet's-Diagnostic-Tools\" data-toc-modified-id=\"Prophet's-Diagnostic-Tools-5.4.1\"><span class=\"toc-item-num\">5.4.1&nbsp;&nbsp;</span>Prophet's Diagnostic Tools</a></span><ul class=\"toc-item\"><li><span><a href=\"#Cross-Validation\" data-toc-modified-id=\"Cross-Validation-5.4.1.1\"><span class=\"toc-item-num\">5.4.1.1&nbsp;&nbsp;</span>Cross Validation</a></span></li><li><span><a href=\"#Fine-tuning-hyperparameters\" data-toc-modified-id=\"Fine-tuning-hyperparameters-5.4.1.2\"><span class=\"toc-item-num\">5.4.1.2&nbsp;&nbsp;</span>Fine tuning hyperparameters</a></span></li></ul></li></ul></li><li><span><a href=\"#Best-Model\" data-toc-modified-id=\"Best-Model-5.5\"><span class=\"toc-item-num\">5.5&nbsp;&nbsp;</span>Best Model</a></span></li><li><span><a href=\"#Best-Model-adding-US-Holidays\" data-toc-modified-id=\"Best-Model-adding-US-Holidays-5.6\"><span class=\"toc-item-num\">5.6&nbsp;&nbsp;</span>Best Model adding US Holidays</a></span></li></ul></li><li><span><a href=\"#Saving-and-Loading-the-Best-model\" data-toc-modified-id=\"Saving-and-Loading-the-Best-model-6\"><span class=\"toc-item-num\">6&nbsp;&nbsp;</span>Saving and Loading the Best model</a></span><ul class=\"toc-item\"><li><span><a href=\"#Save-model\" data-toc-modified-id=\"Save-model-6.1\"><span class=\"toc-item-num\">6.1&nbsp;&nbsp;</span>Save model</a></span></li><li><span><a href=\"#Load-model\" data-toc-modified-id=\"Load-model-6.2\"><span class=\"toc-item-num\">6.2&nbsp;&nbsp;</span>Load model</a></span></li></ul></li><li><span><a href=\"#Comparing-all-results---SARIMA-models-vs-Prophet-models\" data-toc-modified-id=\"Comparing-all-results---SARIMA-models-vs-Prophet-models-7\"><span class=\"toc-item-num\">7&nbsp;&nbsp;</span>Comparing all results - SARIMA models vs Prophet models</a></span></li><li><span><a href=\"#Conclusions\" data-toc-modified-id=\"Conclusions-8\"><span class=\"toc-item-num\">8&nbsp;&nbsp;</span>Conclusions</a></span></li></ul></div>"
   ]
  },
  {
   "cell_type": "markdown",
   "id": "eb6886ca",
   "metadata": {},
   "source": [
    "# Introduction\n",
    "\n",
    "In this notebook we introduce [Facebook Prophet](https://facebook.github.io/prophet/). Here you get the basics for building your first model with Facebook’s advanced forecasting tool and go further exploring it.\n",
    "\n",
    "To illustrate how Prophet works we apply it to forecast sales using the same dataset used in the last notebook where we introduced SARIMAX models.\n",
    "\n",
    "\n",
    "## Facebook Prophet\n",
    "\n",
    "[Facebook Prophet](https://github.com/facebook/prophet)  is open-source library released by [Facebook’s Core Data Science team](https://research.fb.com/category/data-science/). It is available in [R](https://cran.r-project.org/web/packages/prophet/index.html) and [Python](https://pypi.org/project/prophet/).\n",
    "\n",
    "Prophet is a procedure for `univariate (one variable)` time series forecasting data based on an `additive model`, and the implementation supports `trends, seasonality, and holidays`. It works best with time series that have `strong seasonal effects` and `several seasons` of historical data. Prophet is `robust` to missing data and shifts in the trend, and typically handles outliers well.\n",
    "\n",
    "It is specially interesting for new users because of its `easy use` and capacity of `find automatically a good set of hyperparameters` for  the model. Therefore, it allows users without prior knowledge or experience of forecasting time series data start using it and get reasonably good results that are often equal or sometimes even better than the ones produced by the experts."
   ]
  },
  {
   "cell_type": "markdown",
   "id": "5e271c48",
   "metadata": {},
   "source": [
    "# Import Packages"
   ]
  },
  {
   "cell_type": "code",
   "execution_count": null,
   "id": "69d659e5",
   "metadata": {},
   "outputs": [],
   "source": [
    "import pandas as pd\n",
    "import numpy as np\n",
    "import matplotlib.pyplot as plt\n",
    "\n",
    "import statsmodels.api as sm\n",
    "from sklearn.metrics import mean_absolute_error, mean_absolute_percentage_error\n",
    "from prophet import Prophet\n",
    "\n",
    "import holidays\n",
    "\n",
    "import warnings\n",
    "warnings.filterwarnings('ignore')\n",
    "pd.set_option('display.width', None)\n",
    "pd.set_option('display.max_rows', None)"
   ]
  },
  {
   "cell_type": "markdown",
   "id": "9784d4a3",
   "metadata": {},
   "source": [
    "# Load The Walmart Dataset - Store 2 Item 28 data\n",
    "\n",
    "In order to compare Prophet with SARIMAX model we use the same dataset used in notebook 1. This dataset consists of a subset of the [Walmart data](https://www.kaggle.com/c/demand-forecasting-kernels-only/data): sales of item 28 (the most sold) at store 2 (the store with the highest sales). To forecast all sales of all stores we need to apply prophet to each of the 500 time series individually since Prophet process one variable at time. "
   ]
  },
  {
   "cell_type": "code",
   "execution_count": null,
   "id": "39af3678",
   "metadata": {},
   "outputs": [],
   "source": [
    "df_store_2_item_28 = pd.read_csv(\"../data/processed/sales_store_2_item_28.csv\")"
   ]
  },
  {
   "cell_type": "code",
   "execution_count": null,
   "id": "812f9dde",
   "metadata": {},
   "outputs": [],
   "source": [
    "df_store_2_item_28.head()"
   ]
  },
  {
   "cell_type": "code",
   "execution_count": null,
   "id": "94d94ecc",
   "metadata": {},
   "outputs": [],
   "source": [
    "df_store_2_item_28.tail()"
   ]
  },
  {
   "cell_type": "code",
   "execution_count": null,
   "id": "85545209",
   "metadata": {},
   "outputs": [],
   "source": [
    "df_store_2_item_28.info()"
   ]
  },
  {
   "cell_type": "code",
   "execution_count": null,
   "id": "e89bc482",
   "metadata": {
    "scrolled": true
   },
   "outputs": [],
   "source": [
    "df_store_2_item_28.isnull().sum()"
   ]
  },
  {
   "cell_type": "markdown",
   "id": "f3df143e",
   "metadata": {},
   "source": [
    "# Visualize times series sales of item 28 at store 2"
   ]
  },
  {
   "cell_type": "markdown",
   "id": "52bff254",
   "metadata": {},
   "source": [
    "Before applying Facebook Prophet let's check on the characteristics of this time series. If you checked [notebook 1](https://github.com/MKB-Datalab/time-series-analysis-with-SARIMAX-and-Prophet/blob/master/notebooks/01-Intro_time_series_tutorial.ipynb), you are already familiar with these results and can jump to next section."
   ]
  },
  {
   "cell_type": "code",
   "execution_count": null,
   "id": "f455bbf0",
   "metadata": {},
   "outputs": [],
   "source": [
    "# select item 28 and keep only column sales\n",
    "df_store_2_item_28['date']=pd.to_datetime(df_store_2_item_28['date'])\n",
    "df_store_2_item_28_time = df_store_2_item_28.set_index('date')\n",
    "df_store_2_item_28_time.head()"
   ]
  },
  {
   "cell_type": "code",
   "execution_count": null,
   "id": "a92c62d4",
   "metadata": {},
   "outputs": [],
   "source": [
    "# Plot the entire time series diet and show gridlines\n",
    "df_store_2_item_28_time.plot(grid=True,figsize=(20,5))\n",
    "plt.show()"
   ]
  },
  {
   "cell_type": "code",
   "execution_count": null,
   "id": "1707cbe1",
   "metadata": {},
   "outputs": [],
   "source": [
    "# Plot the entire time series diet and show gridlines\n",
    "df_store_2_item_28_time.resample('M').sum().plot(grid=True,figsize=(20,5))\n",
    "plt.show()"
   ]
  },
  {
   "cell_type": "code",
   "execution_count": null,
   "id": "d68dec56",
   "metadata": {},
   "outputs": [],
   "source": [
    "df_store_2_item_28_time.resample('A').sum().plot(grid=True,figsize=(20,5))\n",
    "plt.show()"
   ]
  },
  {
   "cell_type": "code",
   "execution_count": null,
   "id": "dfd9f24c",
   "metadata": {},
   "outputs": [],
   "source": [
    "from pylab import rcParams\n",
    "rcParams['figure.figsize'] = 11, 9\n",
    "decomposition = sm.tsa.seasonal_decompose(df_store_2_item_28_time, \n",
    "                                         model = 'additive',\n",
    "                                         period=365) \n",
    "fig = decomposition.plot()\n",
    "plt.show()"
   ]
  },
  {
   "cell_type": "code",
   "execution_count": null,
   "id": "6d246642",
   "metadata": {},
   "outputs": [],
   "source": [
    "decomposition = sm.tsa.seasonal_decompose(df_store_2_item_28_time.resample('M').sum(), \n",
    "                                          model = 'additive',\n",
    "                                         period=12) \n",
    "fig = decomposition.plot()\n",
    "plt.show()"
   ]
  },
  {
   "cell_type": "markdown",
   "id": "8d7325ef",
   "metadata": {},
   "source": [
    "From the decomposition above we can conclude:\n",
    "\n",
    "1. There is a `upward trend` on sales, i.e., our time series is `not stationary`.\n",
    "2. From the seasonal component we can observe that the model is `additive`, since the seasonal component is similar (not getting multiplied) over the period of time.\n",
    "3. Also we can observe on the seasonal component `seasonality` in sales with lower sales in January and higher sales in July.\n"
   ]
  },
  {
   "cell_type": "markdown",
   "id": "bd936a57",
   "metadata": {},
   "source": [
    "# Forecasting with Facebook Prophet\n",
    "\n",
    "## Prepare Data for Prophet\n",
    "\n",
    "Prophet requires as input a dataframe with two columns:\n",
    "\n",
    "* `ds`: datetime column\n",
    "* `y`: numeric column which represents the measurement we wish to forecast.\n",
    "\n",
    "Our data is almost ready. We just need to rename columns `date` and `sales`, respectively, as `ds` and `y`."
   ]
  },
  {
   "cell_type": "code",
   "execution_count": null,
   "id": "79b75dcd",
   "metadata": {
    "scrolled": false
   },
   "outputs": [],
   "source": [
    "# rename date and sales, respectively ds and y\n",
    "df_store_2_item_28.columns = [# YOUR CODE HERE]\n",
    "df_store_2_item_28.head()"
   ]
  },
  {
   "cell_type": "code",
   "execution_count": null,
   "id": "2d0b43c0",
   "metadata": {},
   "outputs": [],
   "source": [
    "df_store_2_item_28.tail()"
   ]
  },
  {
   "cell_type": "markdown",
   "id": "3104db66",
   "metadata": {},
   "source": [
    "## Train Model\n",
    "\n",
    "To train a model in Prophet, first we create an instance of the model class and then we call the fit method. \n",
    "\n",
    "In principle, you don't need to specify any hyparameters. One important exception is `seasonality_mode`. It is important to set this parameter to `multiplicative` if your model is multiplicative since Prophet is based on an additive model. As we saw previously, the seasonality in our model follows an additive behavior. Therefore, there is no need to set `seasonality_mode` as multiplicative.\n",
    "\n",
    "\n",
    "Although Prophet is able to find automatically a good set of hyperparameters, we will see later that some fine tuning can improve performance. Specially, applying your knowledge of the business case might make a huge difference even if Prophet has the power of handling many things by itself.\n",
    "\n",
    "Just to exemplify, I'll include the parameter `interval_width` that sets the confidence interval. \n",
    "\n",
    "To know more about how to tweak those parameters in your favor check [Prophet documentation](https://facebook.github.io/prophet/docs/quick_start.html).\n"
   ]
  },
  {
   "cell_type": "code",
   "execution_count": null,
   "id": "082dad6d",
   "metadata": {},
   "outputs": [],
   "source": [
    "# train model using `interval_width=0.95`. Don't use another parameter and call this model m_01\n",
    "m_01 = # YOUR CODE HERE #by default is 80%\n",
    "m_01.fit(df_store_2_item_28)"
   ]
  },
  {
   "cell_type": "markdown",
   "id": "dfe8c254",
   "metadata": {},
   "source": [
    "## Forecast\n",
    "\n",
    "In order to forecast we first need to create a dataframe that will save our predictions. Method `make_future_dataframe` builds a dataframe that extends into the future a specified number of days. In our case, we will predict 90 days into the future. \n",
    "\n",
    "By default the dataframe created includes the dates from the history, so we see the model fit as well."
   ]
  },
  {
   "cell_type": "code",
   "execution_count": null,
   "id": "8d3fdd14",
   "metadata": {},
   "outputs": [],
   "source": [
    "# Create future dataframe with periods equal number the day we want to predict. Let it include historical period (it's the default)\n",
    "future = # YOUR CODE HERE\n",
    "future.head()"
   ]
  },
  {
   "cell_type": "code",
   "execution_count": null,
   "id": "ae46a7d8",
   "metadata": {},
   "outputs": [],
   "source": [
    "future.tail()"
   ]
  },
  {
   "cell_type": "code",
   "execution_count": null,
   "id": "a224c39e",
   "metadata": {},
   "outputs": [],
   "source": [
    "df_store_2_item_28.tail()"
   ]
  },
  {
   "cell_type": "markdown",
   "id": "f8d2a627",
   "metadata": {},
   "source": [
    "To make predictions we apply method `predict` on the `future` dataframe that we have just generated."
   ]
  },
  {
   "cell_type": "markdown",
   "id": "0b995a56",
   "metadata": {},
   "source": [
    "### Forecast Dataframe"
   ]
  },
  {
   "cell_type": "code",
   "execution_count": null,
   "id": "4eb41bf2",
   "metadata": {},
   "outputs": [],
   "source": [
    "# use predict() on future to forecast\n",
    "forecast = # YOUR CODE HERE\n",
    "forecast.head()"
   ]
  },
  {
   "cell_type": "markdown",
   "id": "ed117926",
   "metadata": {},
   "source": [
    "The `forecast dataframe` contains Prophet’s prediction for sales. Because we've also passed historical dates, it provides an in-sample fit that we can use to evaluate our model.\n",
    "\n",
    "As you can see, `forecast` includes a column `yhat` with the forecast, as well as columns for components and uncertainty intervals.\n",
    "\n",
    "### Forecast Plot\n",
    "\n",
    "To plot the forecast you just need to call method `.plot()` on your forecast dataframe."
   ]
  },
  {
   "cell_type": "code",
   "execution_count": null,
   "id": "664d0205",
   "metadata": {},
   "outputs": [],
   "source": [
    "# plot forecast\n",
    "plot1 = # YOUR CODE HERE"
   ]
  },
  {
   "cell_type": "markdown",
   "id": "d158de9d",
   "metadata": {},
   "source": [
    "In the forecast plot above, deep blue line is forecast sales `forecast['y_hat']`, black dots are actual sales `forecast['y']`. The light blue shade is 95% confidence interval around the forecast. The uncertainty interval in this region is bounded by `forecast['yhat_lower']` and `forecast['yhat_upper']` values.\n",
    "\n",
    "### Trend Changepoints\n",
    "\n",
    "Real life time series such as this one, frequently have abrupt changes in their trajectories. These `changepoints` sign abrupt changes in the time series caused, for instances, by new product launch, unforeseen calamity. Prophet will automatically detect these changepoints and will allow the trend to adapt appropriately. At these points, the growth rate is allowed to change making the model more flexible. This may cause overfitting or underfitting.\n",
    "\n",
    "A parameter called `changepoint_prior_scale` could be used to adjust the trend flexibility and tackle overfitting and underfitting. Higher value fits a more flexible curve to the time series.\n",
    "\n",
    "By default changepoints are only inferred for the first 80% of the time series, but you can change it by making use of the `changepoint_range` argument of the model.  \n",
    "\n",
    "It is also possible to add your own changepoints manually, using the `changepoints` argument.\n",
    "\n",
    "If you want to know more about changepoints and Prophet check [this](https://facebook.github.io/prophet/docs/trend_changepoints.html) out.\n",
    "\n",
    "In the plot below, the dotted lines represent the changepoints for the given time series."
   ]
  },
  {
   "cell_type": "code",
   "execution_count": null,
   "id": "503fd67f",
   "metadata": {},
   "outputs": [],
   "source": [
    "# check the link above to add changepoints to the forecast plot\n",
    "\n",
    "from fbprophet.plot import add_changepoints_to_plot\n",
    "\n",
    "plot1 = # YOUR CODE HERE\n",
    "a = # YOUR CODE HERE"
   ]
  },
  {
   "cell_type": "markdown",
   "id": "d7f22a5d",
   "metadata": {},
   "source": [
    "### Component Plots\n",
    "\n",
    "If you want to see the forecast components, you can use the `Prophet.plot_components method`. By default you’ll see the trend, yearly seasonality, and weekly seasonality of the time series. If you include holidays, you’ll see those here, too."
   ]
  },
  {
   "cell_type": "code",
   "execution_count": null,
   "id": "3de48b2e",
   "metadata": {},
   "outputs": [],
   "source": [
    "# Apply method .plot_components to forecast\n",
    "\n",
    "plot2 = # YOUR CODE HERE"
   ]
  },
  {
   "cell_type": "markdown",
   "id": "bcb5f514",
   "metadata": {},
   "source": [
    "**What can you observe on forest components?**\n",
    "\n",
    "**Answer:**"
   ]
  },
  {
   "cell_type": "markdown",
   "id": "541cc2f0",
   "metadata": {},
   "source": []
  },
  {
   "cell_type": "markdown",
   "id": "967edcb9",
   "metadata": {},
   "source": [
    "## Evaluate model\n",
    "\n",
    "How this model is performing?\n",
    "\n",
    "The forecast dataframe includes predictions made on the training data dates. Therefore, we can use this in-sample fit to evaluate our model."
   ]
  },
  {
   "cell_type": "code",
   "execution_count": null,
   "id": "8fe3cce2",
   "metadata": {},
   "outputs": [],
   "source": [
    "# merge our data dataframe df_store_2_item_28 with forecast dataframe, only variable 'ds','yhat_lower','yhat_upper','yhat'. \n",
    "\n",
    "df_merge = # YOUR CODE HERE\n",
    "df_merge.head()"
   ]
  },
  {
   "cell_type": "code",
   "execution_count": null,
   "id": "d21e86de",
   "metadata": {},
   "outputs": [],
   "source": [
    "df_merge.tail()"
   ]
  },
  {
   "cell_type": "markdown",
   "id": "c5f72ab3",
   "metadata": {},
   "source": [
    "To evaluate this model we will be using `MAE` and `MAPE`, as done previously for the SARIMAX models. Like this, we can compare and find out which model is the best model."
   ]
  },
  {
   "cell_type": "code",
   "execution_count": null,
   "id": "2f78fdff",
   "metadata": {},
   "outputs": [],
   "source": [
    "# calculate MAE between observed and predicted values \n",
    "y_true = # YOUR CODE HERE (y)\n",
    "y_pred = # YOUR CODE HERE (yhat)\n",
    "mae_01 = # YOUR CODE HERE\n",
    "print('MAE: %.3f' % mae_01)"
   ]
  },
  {
   "cell_type": "code",
   "execution_count": null,
   "id": "5bcc582e",
   "metadata": {},
   "outputs": [],
   "source": [
    "# calculate MAPE between observed and predicted values \n",
    "mape_01 = # YOUR CODE HERE\n",
    "print('MAPE: %.3f' % mape_01)"
   ]
  },
  {
   "cell_type": "markdown",
   "id": "53665405",
   "metadata": {},
   "source": [
    "In addition, to calculating metrics let's plot both actual and predicted data."
   ]
  },
  {
   "cell_type": "code",
   "execution_count": null,
   "id": "1dd00557",
   "metadata": {},
   "outputs": [],
   "source": [
    "# plot expected vs actual\n",
    "plt.plot(y_true, label='Actual')\n",
    "plt.plot(y_pred, label='Predicted')\n",
    "plt.legend()\n",
    "plt.show()\n"
   ]
  },
  {
   "cell_type": "markdown",
   "id": "1f82649d",
   "metadata": {},
   "source": [
    "From the plot, it seems that the model is able to fit the data points well."
   ]
  },
  {
   "cell_type": "markdown",
   "id": "559d816f",
   "metadata": {},
   "source": [
    "### Prophet's Diagnostic Tools\n",
    "\n",
    "As part of the evaluation process we can make good use of some [diagnostic tools provided by Prophet](https://facebook.github.io/prophet/docs/diagnostics.html), such as `Cross Validation` and `Hyperparameter tuning`.\n",
    "\n",
    "#### Cross Validation\n",
    "\n",
    "Prophet includes functionality for time series [cross validation](https://facebook.github.io/prophet/docs/diagnostics.html#cross-validation) to measure forecast error by comparing the predicted values with the actual values.\n",
    "\n",
    "To apply the `cross_validation` function, we specify the forecast horizon (`horizon`), then optionally the size of the initial training period (`initial`) and the spacing between cutoff dates (`period`)."
   ]
  },
  {
   "cell_type": "code",
   "execution_count": null,
   "id": "c8a61ff1",
   "metadata": {},
   "outputs": [],
   "source": [
    "df_store_2_item_28.shape"
   ]
  },
  {
   "cell_type": "code",
   "execution_count": null,
   "id": "b56666fb",
   "metadata": {},
   "outputs": [],
   "source": [
    "# Apply cross validation. Use only horizon with the value of days to be predicted\n",
    "from prophet.diagnostics import cross_validation\n",
    "df_cv = # YOUR CODE HERE\n",
    "# df_cv = cross_validation(m, initial='270 days', period='45 days', horizon = '90 days')"
   ]
  },
  {
   "cell_type": "code",
   "execution_count": null,
   "id": "bd748668",
   "metadata": {
    "scrolled": true
   },
   "outputs": [],
   "source": [
    "df_cv.head()"
   ]
  },
  {
   "cell_type": "markdown",
   "id": "5e47a20d",
   "metadata": {},
   "source": [
    "You can also just set the horizon and let prophet choose the other parameters."
   ]
  },
  {
   "cell_type": "code",
   "execution_count": null,
   "id": "3fc6036b",
   "metadata": {},
   "outputs": [],
   "source": [
    "df_cv.tail()"
   ]
  },
  {
   "cell_type": "markdown",
   "id": "e6f313bc",
   "metadata": {},
   "source": [
    "The `performance_metrics` utility can be used to compute some useful statistics of the prediction performance (yhat, yhat_lower, and yhat_upper compared to y), as a function of the distance from the cutoff (how far into the future the prediction was)."
   ]
  },
  {
   "cell_type": "code",
   "execution_count": null,
   "id": "5f3b4246",
   "metadata": {
    "scrolled": true
   },
   "outputs": [],
   "source": [
    "# Use the performance_metrics utility to compute statistical metrics of the prediction performance\n",
    "from prophet.diagnostics import performance_metrics\n",
    "df_p = # YOUR CODE HERE\n",
    "df_p.head()"
   ]
  },
  {
   "cell_type": "code",
   "execution_count": null,
   "id": "3d9d3d1a",
   "metadata": {},
   "outputs": [],
   "source": [
    "df_p.tail()"
   ]
  },
  {
   "cell_type": "code",
   "execution_count": null,
   "id": "3b2c8034",
   "metadata": {},
   "outputs": [],
   "source": [
    "# plot cross validation metric MAE\n",
    "from prophet.plot import plot_cross_validation_metric\n",
    "\n",
    "plot3 = # YOUR CODE HERE"
   ]
  },
  {
   "cell_type": "code",
   "execution_count": null,
   "id": "e787c477",
   "metadata": {},
   "outputs": [],
   "source": [
    "# plot cross validation metric MAPE\n",
    "plot4 = # YOUR CODE HERE"
   ]
  },
  {
   "cell_type": "markdown",
   "id": "7b2790b9",
   "metadata": {},
   "source": [
    "The blue line shows the MAE (1st plot above) and MAPE (2nd plot above), where the mean is taken over a rolling window of the dots. "
   ]
  },
  {
   "cell_type": "markdown",
   "id": "d4c7bbd3",
   "metadata": {},
   "source": [
    "**Observing performance metrics dataframe and the cross validation metric plots what can you say about the performance of this forecast model?**"
   ]
  },
  {
   "cell_type": "markdown",
   "id": "a7caa7b3",
   "metadata": {},
   "source": [
    "**Answer:**"
   ]
  },
  {
   "cell_type": "markdown",
   "id": "123114c3",
   "metadata": {},
   "source": [
    "#### Fine tuning hyperparameters\n",
    "\n",
    "Is it possible to make it better??\n",
    "\n",
    "We can apply grid search and try to fine tune the hyperparameters. Let's apply it and try to find hyperparameters that may give us lower MAPE.\n",
    "\n",
    "Here we try different values of `changepoint_prior_scale` and `seasonality_prior_scale`. `changepoint_prior_scale` determines the flexibility of the trend, and in particular how much the trend changes at the trend changepoints.While `seasonality_prior_scale` controls the flexibility of the seasonality. For more details, check section [Hyperparameter tuning](https://facebook.github.io/prophet/docs/diagnostics.html#hyperparameter-tuning) of Prophet's documentation.\n"
   ]
  },
  {
   "cell_type": "code",
   "execution_count": null,
   "id": "e792a831",
   "metadata": {},
   "outputs": [],
   "source": [
    "# Python\n",
    "import itertools\n",
    "\n",
    "param_grid = {  \n",
    "    'changepoint_prior_scale': [0.001, 0.01, 0.1, 0.5],\n",
    "    'seasonality_prior_scale': [0.01, 0.1, 1.0, 10.0],   \n",
    "}\n",
    "\n",
    "# Generate all combinations of parameters\n",
    "all_params = [dict(zip(param_grid.keys(), v)) for v in itertools.product(*param_grid.values())]\n",
    "maes = []  # Store the MAE for each params here\n",
    "mapes = [] # Store the MAPE for each params here\n",
    "\n",
    "# Use cross validation to evaluate all parameters\n",
    "for params in all_params:\n",
    "    m = Prophet(**params).fit(df_store_2_item_28)  # Fit model with given params\n",
    "    df_cv = cross_validation(m, horizon='90 days', parallel=\"processes\")\n",
    "    df_p = performance_metrics(df_cv, rolling_window=1)\n",
    "    maes.append(df_p['mae'].values[0])\n",
    "    mapes.append(df_p['mape'].values[0])\n",
    "\n",
    "# Find the best parameters\n",
    "tuning_results = pd.DataFrame(all_params)\n",
    "tuning_results['mae'] = maes\n",
    "tuning_results['mape'] = mapes"
   ]
  },
  {
   "cell_type": "code",
   "execution_count": null,
   "id": "2a4c70bc",
   "metadata": {},
   "outputs": [],
   "source": [
    "# Create a dataframe\n",
    "tuning_results_df = # YOUR CODE HERE"
   ]
  },
  {
   "cell_type": "code",
   "execution_count": null,
   "id": "1b38123b",
   "metadata": {},
   "outputs": [],
   "source": [
    "# Sort dataframe using 1st MAE then MAPE\n",
    "\n",
    "# YOUR CODE HERE"
   ]
  },
  {
   "cell_type": "code",
   "execution_count": null,
   "id": "28701c1b",
   "metadata": {},
   "outputs": [],
   "source": [
    "# Sort dataframe using 1st MAPE then MAE\n",
    "\n",
    "# YOUR CODE HERE"
   ]
  },
  {
   "cell_type": "markdown",
   "id": "f5147b3c",
   "metadata": {},
   "source": [
    "Choosing the parameters that give us the smallest MAPE:"
   ]
  },
  {
   "cell_type": "code",
   "execution_count": null,
   "id": "a06ae278",
   "metadata": {},
   "outputs": [],
   "source": [
    "best_params = all_params[np.argmin(mapes)]\n",
    "print(best_params)"
   ]
  },
  {
   "cell_type": "markdown",
   "id": "981e3231",
   "metadata": {},
   "source": [
    "## Best Model"
   ]
  },
  {
   "cell_type": "code",
   "execution_count": null,
   "id": "eb838e13",
   "metadata": {},
   "outputs": [],
   "source": [
    "# Train the best model obtained above\n",
    "\n",
    "m_02 = Prophet(interval_width=0.95, weekly_seasonality=True, \n",
    "            changepoint_prior_scale=# YOUR CODE HERE, \n",
    "            seasonality_prior_scale=# YOUR CODE HERE)\n",
    "model = m_02.fit(df_store_2_item_28)"
   ]
  },
  {
   "cell_type": "code",
   "execution_count": null,
   "id": "aa3e099a",
   "metadata": {},
   "outputs": [],
   "source": [
    "# Create future dataframe for new model m_02 to forecast 90 days\n",
    "future = # YOUR CODE HERE #to predict 90 days in the future"
   ]
  },
  {
   "cell_type": "code",
   "execution_count": null,
   "id": "12b42bd3",
   "metadata": {},
   "outputs": [],
   "source": [
    "# Forecast\n",
    "forecast = # YOUR CODE HERE"
   ]
  },
  {
   "cell_type": "code",
   "execution_count": null,
   "id": "468b43d8",
   "metadata": {
    "scrolled": false
   },
   "outputs": [],
   "source": [
    "# Plot forecast\n",
    "plot5 = # YOUR CODE HERE"
   ]
  },
  {
   "cell_type": "code",
   "execution_count": null,
   "id": "1a720783",
   "metadata": {},
   "outputs": [],
   "source": [
    "# Plot components\n",
    "plot6 = # YOUR CODE HERE"
   ]
  },
  {
   "cell_type": "code",
   "execution_count": null,
   "id": "39530fbc",
   "metadata": {},
   "outputs": [],
   "source": [
    "# merge our data dataframe df_store_2_item_28 with forecast dataframe, only variable 'ds','yhat_lower','yhat_upper','yhat'. \n",
    "df_merge = pd.merge(df_store_2_item_28, forecast[['ds','yhat_lower','yhat_upper','yhat']],on='ds')\n",
    "df_merge = df_merge[['ds','yhat_lower','yhat_upper','yhat','y']]"
   ]
  },
  {
   "cell_type": "code",
   "execution_count": null,
   "id": "f652b034",
   "metadata": {},
   "outputs": [],
   "source": [
    "# calculate MAE between expected and predicted values for december\n",
    "y_true = df_merge['y'].values\n",
    "y_pred = df_merge['yhat'].values\n",
    "mae_02 = mean_absolute_error(y_true, y_pred)\n",
    "print('MAE: %.3f' % mae_02)"
   ]
  },
  {
   "cell_type": "code",
   "execution_count": null,
   "id": "191bb30d",
   "metadata": {},
   "outputs": [],
   "source": [
    "# calculate MAE between expected and predicted values for december\n",
    "mape_02 = # YOUR CODE HERE\n",
    "print('MAPE: %.3f' % mape_02)"
   ]
  },
  {
   "cell_type": "markdown",
   "id": "91a182d2",
   "metadata": {},
   "source": [
    "**Is there any improvement when comparing with previous model?**"
   ]
  },
  {
   "cell_type": "markdown",
   "id": "ef5bf6ef",
   "metadata": {},
   "source": [
    "**Answer:** "
   ]
  },
  {
   "cell_type": "code",
   "execution_count": null,
   "id": "c3d4091c",
   "metadata": {},
   "outputs": [],
   "source": [
    "# plot expected vs actual\n",
    "# YOUR CODE HERE\n",
    "plt.legend()\n",
    "plt.show()"
   ]
  },
  {
   "cell_type": "code",
   "execution_count": null,
   "id": "49c136d6",
   "metadata": {},
   "outputs": [],
   "source": [
    "y_true"
   ]
  },
  {
   "cell_type": "code",
   "execution_count": null,
   "id": "be152981",
   "metadata": {
    "scrolled": true
   },
   "outputs": [],
   "source": [
    "# Apply cross_validation\n",
    "df_cv = # YOUR CODE HERE\n",
    "# df_cv = cross_validation(m, initial='270 days', period='45 days', horizon = '90 days')"
   ]
  },
  {
   "cell_type": "code",
   "execution_count": null,
   "id": "d11e580f",
   "metadata": {},
   "outputs": [],
   "source": [
    "# Check the performance by applying performance metrics\n",
    "\n",
    "df_p = # YOUR CODE HERE\n",
    "df_p.head()"
   ]
  },
  {
   "cell_type": "code",
   "execution_count": null,
   "id": "e3f089db",
   "metadata": {},
   "outputs": [],
   "source": [
    "df_p.tail()"
   ]
  },
  {
   "cell_type": "code",
   "execution_count": null,
   "id": "18b82357",
   "metadata": {},
   "outputs": [],
   "source": [
    "# plot cross validation metric MAPE\n",
    "plot7 = # YOUR CODE HERE"
   ]
  },
  {
   "cell_type": "markdown",
   "id": "d4f6ff51",
   "metadata": {},
   "source": [
    "**Compare these two models using MAE and MAPE**"
   ]
  },
  {
   "cell_type": "markdown",
   "id": "40fb88c2",
   "metadata": {},
   "source": [
    "**Answer:**"
   ]
  },
  {
   "cell_type": "markdown",
   "id": "8167dd71",
   "metadata": {},
   "source": [
    "Let's compare the values of the metrics of the two models where `Prophet_01` is our first model and `Prophet_02` is the model with smallest MAPE provided by the fine-tuning process."
   ]
  },
  {
   "cell_type": "code",
   "execution_count": null,
   "id": "44bf87fb",
   "metadata": {},
   "outputs": [],
   "source": [
    "metrics_prophet_01 = [round(mae_01,3), \n",
    "                 round(mape_01,3)]\n",
    "\n",
    "metrics_prophet_02 = [round(mae_02,3), \n",
    "                 round(mape_02,3)]"
   ]
  },
  {
   "cell_type": "code",
   "execution_count": null,
   "id": "b51496f8",
   "metadata": {},
   "outputs": [],
   "source": [
    "pd.DataFrame({'metrics':['MAE','MAPE'],\n",
    "              'Prophet_01':# YOUR CODE HERE, \n",
    "              'Prophet_02':# YOUR CODE HERE,\n",
    "             })"
   ]
  },
  {
   "cell_type": "markdown",
   "id": "3e378547",
   "metadata": {},
   "source": [
    "The model pointed out by fine-tuning (`Prophet_02`) gave us a slight improvement when compared with previous model (`Prophet_01`)."
   ]
  },
  {
   "cell_type": "markdown",
   "id": "47b5ef60",
   "metadata": {},
   "source": [
    "## Best Model adding US Holidays\n",
    "\n",
    "In some business cases considering holidays can have a huge impact. Prophet allows to include holidays, for this a dataframe with holidays both in the past (back as far as the historical data go) and in the future (out as far as the forecast is being made). This dataframe must have 2 columns: _holiday_ and _ds_. \n",
    "\n",
    "For this we can use `add_country_holidays(country_name='US')` provided by Prophet. However, we will use the package [holidays](https://python-holidays.readthedocs.io/en/latest/index.html). This package has the advantage of generating holidays for many different countries. "
   ]
  },
  {
   "cell_type": "code",
   "execution_count": null,
   "id": "f37b4ca7",
   "metadata": {},
   "outputs": [],
   "source": [
    "# Build a dataframe with US holidays in the format used by Prophet [ds, holiday]\n",
    "\n",
    "holidays_df = pd.DataFrame([], columns = # YOUR CODE HERE)\n",
    "\n",
    "ldates = []\n",
    "lnames = []\n",
    "for date, name in sorted(holidays.US(years=np.arange(df_store_2_item_28_time.index.min().year, df_store_2_item_28_time.index.max().year + 1)).items()):\n",
    "    ldates.append(date)\n",
    "    lnames.append(name)\n",
    "    \n",
    "ldates = np.array(ldates)\n",
    "lnames = np.array(lnames)\n",
    "\n",
    "holidays_df.loc[:,'ds'] = # YOUR CODE HERE\n",
    "holidays_df.loc[:,'holiday'] = # YOUR CODE HERE"
   ]
  },
  {
   "cell_type": "code",
   "execution_count": null,
   "id": "db5a1533",
   "metadata": {},
   "outputs": [],
   "source": [
    "holidays_df.info()"
   ]
  },
  {
   "cell_type": "code",
   "execution_count": null,
   "id": "38d459c0",
   "metadata": {},
   "outputs": [],
   "source": [
    "holidays_df['holiday'].value_counts()"
   ]
  },
  {
   "cell_type": "markdown",
   "id": "2877cae4",
   "metadata": {},
   "source": [
    "We combine the true holidays and the days they are observed into fewer categories."
   ]
  },
  {
   "cell_type": "code",
   "execution_count": null,
   "id": "e20674d5",
   "metadata": {},
   "outputs": [],
   "source": [
    "holidays_df.holiday.unique()"
   ]
  },
  {
   "cell_type": "code",
   "execution_count": null,
   "id": "80ae607b",
   "metadata": {},
   "outputs": [],
   "source": [
    "# Modify the model obtained using grid search to include holidays = holidays_df\n",
    "m_03 = # YOUR CODE HERE\n",
    "model = m_03.fit(df_store_2_item_28)"
   ]
  },
  {
   "cell_type": "markdown",
   "id": "48cecfe3",
   "metadata": {},
   "source": [
    "Observe in the cell below that there is a little difference if we decide to use `add_country_holidays(country_name='US')`:"
   ]
  },
  {
   "cell_type": "raw",
   "id": "1879f4df",
   "metadata": {},
   "source": [
    "m_03 = Prophet(interval_width=0.95, weekly_seasonality=True, \n",
    "            changepoint_prior_scale=best_params['changepoint_prior_scale'], \n",
    "            seasonality_prior_scale=best_params['seasonality_prior_scale'])\n",
    "m_03.add_country_holidays(country_name='US')\n",
    "model = m_03.fit(df_store_2_item_28)"
   ]
  },
  {
   "cell_type": "code",
   "execution_count": null,
   "id": "27187176",
   "metadata": {},
   "outputs": [],
   "source": [
    "# Create future dataframe\n",
    "future = # YOUR CODE HERE #to predict 90 days in the future"
   ]
  },
  {
   "cell_type": "code",
   "execution_count": null,
   "id": "980fdc8c",
   "metadata": {},
   "outputs": [],
   "source": [
    "# forecast\n",
    "forecast = # YOUR CODE HERE"
   ]
  },
  {
   "cell_type": "code",
   "execution_count": null,
   "id": "9ceae1d1",
   "metadata": {},
   "outputs": [],
   "source": [
    "# plot forecast\n",
    "plot8 = # YOUR CODE HERE"
   ]
  },
  {
   "cell_type": "code",
   "execution_count": null,
   "id": "355e91f0",
   "metadata": {},
   "outputs": [],
   "source": [
    "# Plot components\n",
    "plot9 = # YOUR CODE HERE"
   ]
  },
  {
   "cell_type": "markdown",
   "id": "e3fc8e75",
   "metadata": {},
   "source": [
    "Note that now the plots of components include holidays."
   ]
  },
  {
   "cell_type": "code",
   "execution_count": null,
   "id": "8fa2ae16",
   "metadata": {},
   "outputs": [],
   "source": [
    "# merge dataframes actual and forecast\n",
    "df_merge = # YOUR CODE HERE"
   ]
  },
  {
   "cell_type": "code",
   "execution_count": null,
   "id": "270463f2",
   "metadata": {},
   "outputs": [],
   "source": [
    "# calculate MAE between expected and predicted values for december\n",
    "y_true = df_merge['y'].values\n",
    "y_pred = df_merge['yhat'].values\n",
    "mae_03 = mean_absolute_error(y_true, y_pred)\n",
    "print('MAE: %.3f' % mae_03)"
   ]
  },
  {
   "cell_type": "code",
   "execution_count": null,
   "id": "57bf2660",
   "metadata": {},
   "outputs": [],
   "source": [
    "# Calculate MAPE\n",
    "mape_03 = mean_absolute_percentage_error(y_true, y_pred)\n",
    "print('MAPE: %.3f' % mape_03)"
   ]
  },
  {
   "cell_type": "markdown",
   "id": "f0a62af1",
   "metadata": {},
   "source": [
    "By including, holidays in US provided by Prophet we succeed in improving a bit our model. Even if it was not a significative improvement it shows that changing parameters based on our business case can play in our favour."
   ]
  },
  {
   "cell_type": "code",
   "execution_count": null,
   "id": "b54f50ba",
   "metadata": {},
   "outputs": [],
   "source": [
    "# plot expected vs actual\n",
    "plt.plot(y_true, label='Actual')\n",
    "plt.plot(y_pred, label='Predicted')\n",
    "plt.legend()\n",
    "plt.show()"
   ]
  },
  {
   "cell_type": "code",
   "execution_count": null,
   "id": "687eb230",
   "metadata": {},
   "outputs": [],
   "source": [
    "# Apply cross validation\n",
    "df_cv = cross_validation(m_03, horizon='90 days')\n",
    "# df_cv = cross_validation(m, initial='270 days', period='45 days', horizon = '90 days')"
   ]
  },
  {
   "cell_type": "markdown",
   "id": "27b0cd8a",
   "metadata": {},
   "source": [
    "Let's apply once more performance metrics."
   ]
  },
  {
   "cell_type": "code",
   "execution_count": null,
   "id": "cd79e886",
   "metadata": {},
   "outputs": [],
   "source": [
    "df_p = # YOUR CODE HERE\n",
    "df_p.head()"
   ]
  },
  {
   "cell_type": "code",
   "execution_count": null,
   "id": "662fb217",
   "metadata": {},
   "outputs": [],
   "source": [
    "df_p.tail()"
   ]
  },
  {
   "cell_type": "code",
   "execution_count": null,
   "id": "0b6962fb",
   "metadata": {},
   "outputs": [],
   "source": [
    "# Plot cross validation for MAPE\n",
    "plot10 = # YOUR CODE HERE"
   ]
  },
  {
   "cell_type": "markdown",
   "id": "41f37d42",
   "metadata": {},
   "source": [
    "Putting the results of the three Prophet models together considering forecasting in sample:"
   ]
  },
  {
   "cell_type": "markdown",
   "id": "b66f68df",
   "metadata": {},
   "source": [
    "**Update dataframe of metrics of the 2 models to include metrics of the third model \"Prophet_03\"**\n",
    "\n",
    "**Answer:**"
   ]
  },
  {
   "cell_type": "code",
   "execution_count": null,
   "id": "1492feb7",
   "metadata": {},
   "outputs": [],
   "source": [
    "metrics_prophet_03 = [round(mae_03,3), \n",
    "                 round(mape_03,3)]"
   ]
  },
  {
   "cell_type": "code",
   "execution_count": null,
   "id": "3cbbe46c",
   "metadata": {
    "scrolled": true
   },
   "outputs": [],
   "source": [
    "pd.DataFrame({'metrics':['MAE','MAPE'],\n",
    "              'Prophet_01':metrics_prophet_01, \n",
    "              'Prophet_02':metrics_prophet_02,\n",
    "              'Prophet_03':metrics_prophet_03,\n",
    "             })"
   ]
  },
  {
   "cell_type": "markdown",
   "id": "e27e0cf6",
   "metadata": {},
   "source": [
    "**What do you conclude with these results?**"
   ]
  },
  {
   "cell_type": "markdown",
   "id": "c8d8b50e",
   "metadata": {},
   "source": [
    "**Answer:**"
   ]
  },
  {
   "cell_type": "markdown",
   "id": "75b31e4f",
   "metadata": {},
   "source": [
    "# Saving and Loading the Best model\n",
    "\n",
    "Now that you found your best model, it is time to save it for future use.\n",
    "\n",
    "Saving Prophet models is a bit different than saving SARIMAX models. In Python, Prophet models should not be saved with pickle; the Stan backend attached to the model object will not pickle well, and will produce issues under certain versions of Python. Instead, you should use the built-in serialization functions to serialize the model to json."
   ]
  },
  {
   "cell_type": "code",
   "execution_count": null,
   "id": "a3735f29",
   "metadata": {
    "scrolled": true
   },
   "outputs": [],
   "source": [
    "import json\n",
    "from prophet.serialize import model_to_json, model_from_json"
   ]
  },
  {
   "cell_type": "markdown",
   "id": "816cf6e8",
   "metadata": {},
   "source": [
    "## Save model"
   ]
  },
  {
   "cell_type": "code",
   "execution_count": null,
   "id": "3f8a2ee1",
   "metadata": {},
   "outputs": [],
   "source": [
    "with open('../model/prophet_model.json', 'w') as fout:\n",
    "    json.dump(model_to_json(m_03), fout)  # Save last model"
   ]
  },
  {
   "cell_type": "markdown",
   "id": "acb084c5",
   "metadata": {},
   "source": [
    "## Load model"
   ]
  },
  {
   "cell_type": "code",
   "execution_count": null,
   "id": "cb97e310",
   "metadata": {},
   "outputs": [],
   "source": [
    "with open('../model/prophet_model.json', 'r') as fin:\n",
    "    m_03_rec = # YOUR CODE HERE  # Load model"
   ]
  },
  {
   "cell_type": "markdown",
   "id": "2a6e01c4",
   "metadata": {},
   "source": [
    "# Comparing all results - SARIMA models vs Prophet models\n",
    "\n",
    "Below we compare the performance of SARIMAX models ([notebook 02-Forecasting_with_SARIMAX.ipynb](https://github.com/MKB-Datalab/time-series-analysis-with-SARIMAX-and-Prophet/blob/master/notebooks/02-Forecasting_with_SARIMAX.ipynb)) and Prophet models."
   ]
  },
  {
   "cell_type": "code",
   "execution_count": null,
   "id": "ebd3517a",
   "metadata": {},
   "outputs": [],
   "source": [
    "# load csv with metrics results for SARIMAX results_arima.csv, obtained in the last notebook\n",
    "\n",
    "sarimax_results = pd.read_csv(# YOUR CODE HERE)\n",
    "\n",
    "# prophet results\n",
    "\n",
    "prophet_results = pd.DataFrame({'metrics':['MAE','MAPE'],\n",
    "              'Prophet_01':metrics_prophet_01, \n",
    "              'Prophet_02':metrics_prophet_02,\n",
    "              'Prophet_03':metrics_prophet_03,\n",
    "             })\n",
    "\n",
    "# merge by columns metrics\n",
    "sarimax_results.merge(prophet_results, on='metrics')\n"
   ]
  },
  {
   "cell_type": "markdown",
   "id": "04bbd51f",
   "metadata": {},
   "source": [
    "**How the results from ARIMA and Prophet models compare?**"
   ]
  },
  {
   "cell_type": "markdown",
   "id": "8421f781",
   "metadata": {},
   "source": [
    "**Answer:**\n",
    "\n"
   ]
  },
  {
   "cell_type": "markdown",
   "id": "27b2a417",
   "metadata": {},
   "source": [
    "# Conclusions \n",
    "\n",
    "In this section we presented `Facebook Prophet`. With our example, we could observe that in fact Prophet is easy to use. In our first model we didn’t make any choice and by letting Prophet choose automatically the hyperparameters we have already obtained a model with better performance than the best SARIMA model obtained in notebook [02-Forecasting_with_SARIMAX_v220423.ipynb](https://github.com/MKB-Datalab/workshop_ts_forecasting/notebooks/02-Forecasting_with_SARIMAX_v220423.ipynb). \n",
    "\n",
    "By tweaking a bit, the hyperparameters we have improved our results. Adding holidays showed to be useful even if the improvement, in this case, was small.\n",
    "\n",
    "We have also explored some of the evaluation tools provided by Prophet. \n",
    "\n",
    "If you want to go deeper and learn even more about Prophet visit its [page](https://facebook.github.io/prophet/). \n"
   ]
  }
 ],
 "metadata": {
  "kernelspec": {
   "display_name": "Python 3",
   "language": "python",
   "name": "python3"
  },
  "language_info": {
   "codemirror_mode": {
    "name": "ipython",
    "version": 3
   },
   "file_extension": ".py",
   "mimetype": "text/x-python",
   "name": "python",
   "nbconvert_exporter": "python",
   "pygments_lexer": "ipython3",
   "version": "3.8.5"
  },
  "toc": {
   "base_numbering": 1,
   "nav_menu": {},
   "number_sections": true,
   "sideBar": true,
   "skip_h1_title": false,
   "title_cell": "Table of Contents",
   "title_sidebar": "Contents",
   "toc_cell": true,
   "toc_position": {
    "height": "calc(100% - 180px)",
    "left": "10px",
    "top": "150px",
    "width": "307.2px"
   },
   "toc_section_display": true,
   "toc_window_display": true
  },
  "varInspector": {
   "cols": {
    "lenName": 16,
    "lenType": 16,
    "lenVar": 40
   },
   "kernels_config": {
    "python": {
     "delete_cmd_postfix": "",
     "delete_cmd_prefix": "del ",
     "library": "var_list.py",
     "varRefreshCmd": "print(var_dic_list())"
    },
    "r": {
     "delete_cmd_postfix": ") ",
     "delete_cmd_prefix": "rm(",
     "library": "var_list.r",
     "varRefreshCmd": "cat(var_dic_list()) "
    }
   },
   "types_to_exclude": [
    "module",
    "function",
    "builtin_function_or_method",
    "instance",
    "_Feature"
   ],
   "window_display": false
  }
 },
 "nbformat": 4,
 "nbformat_minor": 5
}
